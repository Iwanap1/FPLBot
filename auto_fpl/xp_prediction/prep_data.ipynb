{
 "cells": [
  {
   "cell_type": "code",
   "execution_count": 19,
   "metadata": {},
   "outputs": [],
   "source": [
    "import pandas as pd \n",
    "from typing import Dict"
   ]
  },
  {
   "cell_type": "code",
   "execution_count": 20,
   "metadata": {},
   "outputs": [],
   "source": [
    "def load_csv(path):\n",
    "    for enc in (\"utf-8\", \"utf-8-sig\", \"cp1252\", \"latin-1\"):\n",
    "        try:\n",
    "            return pd.read_csv(\n",
    "                path,\n",
    "                engine=\"python\",       # more tolerant\n",
    "                on_bad_lines=\"skip\",   # or \"skip\"\n",
    "                encoding=enc\n",
    "            )\n",
    "        except UnicodeDecodeError:\n",
    "            continue\n",
    "\n",
    "    return pd.read_csv(\n",
    "        path,\n",
    "        engine=\"python\",\n",
    "        on_bad_lines=\"skip\",\n",
    "        encoding=\"utf-8\",\n",
    "        encoding_errors=\"replace\"\n",
    "    )\n",
    "\n",
    "def get_path_from_row(root:str, row: pd.Series) -> str:\n",
    "    first_name = row.get(\"first_name\", \"\")\n",
    "    last_name = row.get(\"second_name\", \"\")\n",
    "    id = row.get(\"id\", \"\")\n",
    "    return f\"{root}/players/{first_name}_{last_name}_{id}\""
   ]
  },
  {
   "cell_type": "code",
   "execution_count": 21,
   "metadata": {},
   "outputs": [],
   "source": [
    "def calculate_weighted_field(player_df, field_name, upcoming_gw, look_back=5):\n",
    "    # weight a field of previous results for the player. E.g. points scored, xG, xA, etc. Weighting recent GWs more heavily.\n",
    "    weighted_sum = 0\n",
    "    previous_fixtures = player_df[player_df[\"round\"] < upcoming_gw].sort_values(by=\"round\", ascending=False).head(look_back)\n",
    "    total_weight = 0\n",
    "    for i, (_, fixture) in enumerate(previous_fixtures.iterrows()):\n",
    "        weight = look_back - i\n",
    "        weighted_sum += fixture[field_name] * weight\n",
    "        total_weight += weight\n",
    "    if total_weight == 0:\n",
    "        return 0\n",
    "    return weighted_sum / total_weight\n"
   ]
  },
  {
   "cell_type": "code",
   "execution_count": 27,
   "metadata": {},
   "outputs": [],
   "source": [
    "fields_to_weight = [\"assists\", \"goals_scored\", \"minutes\", \"goals_conceded\",\n",
    "                    \"influence\", \"creativity\", \"threat\", \"ict_index\", \"bonus\", \"yellow_cards\", \"saves\",\n",
    "                    \"expected_assists\",\"expected_goal_involvements\", \"expected_goals\", \"expected_goals_conceded\"]\n"
   ]
  },
  {
   "cell_type": "code",
   "execution_count": 28,
   "metadata": {},
   "outputs": [],
   "source": [
    "def get_team_and_fixture_info(player_df, teams_df, upcoming_gw):\n",
    "    gw_fixtures = player_df[player_df[\"round\"] == upcoming_gw]\n",
    "    gw_data = [] # list of dicts for each fixture in the upcoming game week for that player (accounts for double gws)\n",
    "    for _, fixture in gw_fixtures.iterrows():\n",
    "        data = {}\n",
    "        data[\"points\"] = fixture[\"total_points\"]\n",
    "        opponent_team_id = fixture[\"opponent_team\"]\n",
    "        was_home = fixture[\"was_home\"]\n",
    "        opponent_row = teams_df[teams_df[\"id\"] == opponent_team_id]\n",
    "        data[\"opposition_strength\"] = opponent_row[\"strength\"].values[0]\n",
    "        if was_home:\n",
    "            data[\"opponent_strength_attack\"] = opponent_row[\"strength_attack_home\"].values[0]\n",
    "            data[\"opponent_strength_defense\"] = opponent_row[\"strength_defence_home\"].values[0]\n",
    "        else:\n",
    "            data[\"opponent_strength_attack\"] = opponent_row[\"strength_attack_away\"].values[0]\n",
    "            data[\"opponent_strength_defense\"] = opponent_row[\"strength_defence_away\"].values[0]\n",
    "        data[\"was_home\"] = int(was_home)\n",
    "        gw_data.append(data)\n",
    "    \n",
    "    return gw_data\n"
   ]
  },
  {
   "cell_type": "code",
   "execution_count": 29,
   "metadata": {},
   "outputs": [],
   "source": [
    "def position_dict(position:int) -> Dict:\n",
    "    return {\n",
    "        \"goalkeeper\": int(position == 1),\n",
    "        \"defender\": int(position == 2),\n",
    "        \"midfielder\": int(position == 3),\n",
    "        \"forward\": int(position == 4)\n",
    "    }\n",
    "    "
   ]
  },
  {
   "cell_type": "code",
   "execution_count": 30,
   "metadata": {},
   "outputs": [
    {
     "name": "stdout",
     "output_type": "stream",
     "text": [
      "Processing season: 2022-23\n",
      "Processing season: 2023-24\n",
      "Processing season: 2024-25\n"
     ]
    }
   ],
   "source": [
    "all_data = []\n",
    "for season in [\"2022-23\", \"2023-24\", \"2024-25\"]:\n",
    "    print(\"Processing season:\", season)\n",
    "    root = f\"../../data/Fantasy-Premier-League/data/{season}\"\n",
    "    players_raw_df = load_csv(f\"{root}/players_raw.csv\")\n",
    "    teams_df = load_csv(f\"{root}/teams.csv\")\n",
    "    for _, player_row in players_raw_df.iterrows():\n",
    "        player_path = get_path_from_row(root, player_row)\n",
    "        player_df = load_csv(f\"{player_path}/gw.csv\")\n",
    "        position = player_row[\"element_type\"]\n",
    "\n",
    "        for i in range(5, 39):\n",
    "            if player_row[\"minutes\"] == 0:\n",
    "                continue\n",
    "            data = {}\n",
    "            for key in fields_to_weight:\n",
    "                data[key] = calculate_weighted_field(player_df, key, i)\n",
    "            fixture_details = get_team_and_fixture_info(player_df, teams_df, i)\n",
    "            for fixture_dict in fixture_details:\n",
    "                combined_data = {**data, **fixture_dict}\n",
    "                combined_data[\"player_id\"] = player_row[\"id\"]\n",
    "                combined_data.update(position_dict(position))\n",
    "                combined_data[\"game_week\"] = i\n",
    "                combined_data[\"season\"] = season\n",
    "                all_data.append(combined_data)\n"
   ]
  },
  {
   "cell_type": "code",
   "execution_count": 31,
   "metadata": {},
   "outputs": [],
   "source": [
    "df = pd.DataFrame(all_data)\n",
    "df.to_csv(\"../data/processed_player_data.csv\", index=False)"
   ]
  },
  {
   "cell_type": "code",
   "execution_count": 32,
   "metadata": {},
   "outputs": [
    {
     "data": {
      "text/plain": [
       "Index(['assists', 'goals_scored', 'minutes', 'goals_conceded', 'influence',\n",
       "       'creativity', 'threat', 'ict_index', 'bonus', 'yellow_cards', 'saves',\n",
       "       'expected_assists', 'expected_goal_involvements', 'expected_goals',\n",
       "       'expected_goals_conceded', 'points', 'opposition_strength',\n",
       "       'opponent_strength_attack', 'opponent_strength_defense', 'was_home',\n",
       "       'player_id', 'goalkeeper', 'defender', 'midfielder', 'forward',\n",
       "       'game_week', 'season'],\n",
       "      dtype='object')"
      ]
     },
     "execution_count": 32,
     "metadata": {},
     "output_type": "execute_result"
    }
   ],
   "source": [
    "df.columns"
   ]
  }
 ],
 "metadata": {
  "kernelspec": {
   "display_name": "new_base",
   "language": "python",
   "name": "python3"
  },
  "language_info": {
   "codemirror_mode": {
    "name": "ipython",
    "version": 3
   },
   "file_extension": ".py",
   "mimetype": "text/x-python",
   "name": "python",
   "nbconvert_exporter": "python",
   "pygments_lexer": "ipython3",
   "version": "3.12.7"
  }
 },
 "nbformat": 4,
 "nbformat_minor": 2
}
